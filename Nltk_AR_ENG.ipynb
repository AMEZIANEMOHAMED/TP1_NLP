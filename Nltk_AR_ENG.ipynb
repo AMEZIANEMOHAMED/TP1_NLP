{
  "nbformat": 4,
  "nbformat_minor": 0,
  "metadata": {
    "colab": {
      "name": "NLTK.ipynb",
      "provenance": [],
      "collapsed_sections": []
    },
    "kernelspec": {
      "display_name": "Python 3",
      "language": "python",
      "name": "python3"
    },
    "language_info": {
      "codemirror_mode": {
        "name": "ipython",
        "version": 3
      },
      "file_extension": ".py",
      "mimetype": "text/x-python",
      "name": "python",
      "nbconvert_exporter": "python",
      "pygments_lexer": "ipython3",
      "version": "3.8.5"
    }
  },
  "cells": [
    {
      "cell_type": "markdown",
      "metadata": {
        "id": "ETmyuUba4Nkc"
      },
      "source": [
        "# NLTK - Natural Language Toolkit"
      ]
    },
    {
      "cell_type": "markdown",
      "metadata": {
        "id": "E44Se6nF4Nkf"
      },
      "source": [
        "### Importing library NTLK\n"
      ]
    },
    {
      "cell_type": "code",
      "metadata": {
        "id": "DPSChvAQ4Nkg"
      },
      "source": [
        "import nltk, string"
      ],
      "execution_count": 33,
      "outputs": []
    },
    {
      "cell_type": "markdown",
      "metadata": {
        "id": "hwS-88Gp4Nki"
      },
      "source": [
        "### My Tow TEXT"
      ]
    },
    {
      "cell_type": "code",
      "metadata": {
        "id": "6TxRfuxq4Nki"
      },
      "source": [
        "ENG_TXT = \"\"\"Perhaps one of the most significant advances made by Arabic mathematics began at this time with the work of al-Khwarizmi, namely the beginnings of algebra. It is important to understand just how significant this new idea was. It was a revolutionary move away from the Greek concept of mathematics which was essentially geometry. Algebra was a unifying theory which allowedrational numbers,irrational numbers, geometrical magnitudes, etc., to all be treated as \\\"algebraic objects\\\". It gave mathematics a whole new development path so much broader in concept to that which had existed before, and provided a vehicle for future development of the subject. Another important aspect of the introduction of algebraic ideas was that it allowed mathematics to be applied to itselfin a way which had not happened before.\"\"\""
      ],
      "execution_count": 34,
      "outputs": []
    },
    {
      "cell_type": "code",
      "metadata": {
        "id": "E8mBK59k4Nkn"
      },
      "source": [
        "AR_TXT =\"\"\"ربما كانت أحد أهم التطورات التي قامت بها الرياضيات العربية التي بدأت في هذا الوقت بعمل الخوارزمي وهي بدايات الجبر, ومن المهم فهم كيف كانت هذه الفكرة الجديدة مهمة, فقد كانت خطوة نورية بعيدا عن المفهوم اليوناني للرياضيات التي هي في جوهرها هندسة, الجبر کان نظرية موحدة تتيح الأعداد الكسرية والأعداد اللا كسرية, والمقادير الهندسية وغيرها, أن تتعامل على أنها أجسام جبرية, وأعطت الرياضيات ككل مسارا جديدا للتطور بمفهوم أوسع بكثير من الذي كان موجودا من قبل, وقم وسيلة للتنمية في هذا الموضوع مستقبلا. وجانب آخر مهم لإدخال أفكار الجبر وهو أنه سمح بتطبيق الرياضيات على نفسها بطريقة لم تحدث من قبل\"\"\""
      ],
      "execution_count": 35,
      "outputs": []
    },
    {
      "cell_type": "markdown",
      "metadata": {
        "id": "nnMByxT54Nks"
      },
      "source": [
        "#### SHOWING TEXT"
      ]
    },
    {
      "cell_type": "code",
      "metadata": {
        "id": "mjS9BuJ44Nkt",
        "colab": {
          "base_uri": "https://localhost:8080/",
          "height": 120
        },
        "outputId": "98e62333-eb3c-48e1-ba90-a0c077df1ca9"
      },
      "source": [
        "ENG_TXT"
      ],
      "execution_count": 43,
      "outputs": [
        {
          "output_type": "execute_result",
          "data": {
            "application/vnd.google.colaboratory.intrinsic+json": {
              "type": "string"
            },
            "text/plain": [
              "'Perhaps one of the most significant advances made by Arabic mathematics began at this time with the work of al-Khwarizmi, namely the beginnings of algebra. It is important to understand just how significant this new idea was. It was a revolutionary move away from the Greek concept of mathematics which was essentially geometry. Algebra was a unifying theory which allowedrational numbers,irrational numbers, geometrical magnitudes, etc., to all be treated as \"algebraic objects\". It gave mathematics a whole new development path so much broader in concept to that which had existed before, and provided a vehicle for future development of the subject. Another important aspect of the introduction of algebraic ideas was that it allowed mathematics to be applied to itselfin a way which had not happened before.'"
            ]
          },
          "metadata": {
            "tags": []
          },
          "execution_count": 43
        }
      ]
    },
    {
      "cell_type": "code",
      "metadata": {
        "id": "fQFuRLjM4Nkt",
        "colab": {
          "base_uri": "https://localhost:8080/",
          "height": 69
        },
        "outputId": "e38ebee8-6543-4fbe-f1e5-6b9e1a18d488"
      },
      "source": [
        "AR_TXT"
      ],
      "execution_count": 38,
      "outputs": [
        {
          "output_type": "execute_result",
          "data": {
            "application/vnd.google.colaboratory.intrinsic+json": {
              "type": "string"
            },
            "text/plain": [
              "'ربما كانت أحد أهم التطورات التي قامت بها الرياضيات العربية التي بدأت في هذا الوقت بعمل الخوارزمي وهي بدايات الجبر, ومن المهم فهم كيف كانت هذه الفكرة الجديدة مهمة, فقد كانت خطوة نورية بعيدا عن المفهوم اليوناني للرياضيات التي هي في جوهرها هندسة, الجبر کان نظرية موحدة تتيح الأعداد الكسرية والأعداد اللا كسرية, والمقادير الهندسية وغيرها, أن تتعامل على أنها أجسام جبرية, وأعطت الرياضيات ككل مسارا جديدا للتطور بمفهوم أوسع بكثير من الذي كان موجودا من قبل, وقم وسيلة للتنمية في هذا الموضوع مستقبلا. وجانب آخر مهم لإدخال أفكار الجبر وهو أنه سمح بتطبيق الرياضيات على نفسها بطريقة لم تحدث من قبل'"
            ]
          },
          "metadata": {
            "tags": []
          },
          "execution_count": 38
        }
      ]
    },
    {
      "cell_type": "markdown",
      "metadata": {
        "id": "CTft-wjo4Nku"
      },
      "source": [
        "### Tokinization"
      ]
    },
    {
      "cell_type": "code",
      "metadata": {
        "id": "pc_-Ebw64Nkw"
      },
      "source": [
        "from nltk.tokenize import sent_tokenize, word_tokenize"
      ],
      "execution_count": 104,
      "outputs": []
    },
    {
      "cell_type": "markdown",
      "metadata": {
        "id": "nHOXqye84Nkx"
      },
      "source": [
        "#### Tokenize word"
      ]
    },
    {
      "cell_type": "code",
      "metadata": {
        "id": "6-JW23xo4Nkx"
      },
      "source": [
        "ENG_TXT_WORD = word_tokenize(ENG_TXT)\n",
        "AR_TXT_WORD =  word_tokenize(AR_TXT)"
      ],
      "execution_count": 105,
      "outputs": []
    },
    {
      "cell_type": "markdown",
      "metadata": {
        "id": "wIStwxzN-SSg"
      },
      "source": [
        "### SHOWING TOKENISE WORDS IN 2 TEXT"
      ]
    },
    {
      "cell_type": "code",
      "metadata": {
        "colab": {
          "base_uri": "https://localhost:8080/"
        },
        "id": "rLhbc9mB-KFy",
        "outputId": "f2ffa4ef-4840-4abc-8a9e-bc1d5af69ab4"
      },
      "source": [
        "ENG_TXT_WORD"
      ],
      "execution_count": 106,
      "outputs": [
        {
          "output_type": "execute_result",
          "data": {
            "text/plain": [
              "['Perhaps',\n",
              " 'one',\n",
              " 'of',\n",
              " 'the',\n",
              " 'most',\n",
              " 'significant',\n",
              " 'advances',\n",
              " 'made',\n",
              " 'by',\n",
              " 'Arabic',\n",
              " 'mathematics',\n",
              " 'began',\n",
              " 'at',\n",
              " 'this',\n",
              " 'time',\n",
              " 'with',\n",
              " 'the',\n",
              " 'work',\n",
              " 'of',\n",
              " 'al-Khwarizmi',\n",
              " ',',\n",
              " 'namely',\n",
              " 'the',\n",
              " 'beginnings',\n",
              " 'of',\n",
              " 'algebra',\n",
              " '.',\n",
              " 'It',\n",
              " 'is',\n",
              " 'important',\n",
              " 'to',\n",
              " 'understand',\n",
              " 'just',\n",
              " 'how',\n",
              " 'significant',\n",
              " 'this',\n",
              " 'new',\n",
              " 'idea',\n",
              " 'was',\n",
              " '.',\n",
              " 'It',\n",
              " 'was',\n",
              " 'a',\n",
              " 'revolutionary',\n",
              " 'move',\n",
              " 'away',\n",
              " 'from',\n",
              " 'the',\n",
              " 'Greek',\n",
              " 'concept',\n",
              " 'of',\n",
              " 'mathematics',\n",
              " 'which',\n",
              " 'was',\n",
              " 'essentially',\n",
              " 'geometry',\n",
              " '.',\n",
              " 'Algebra',\n",
              " 'was',\n",
              " 'a',\n",
              " 'unifying',\n",
              " 'theory',\n",
              " 'which',\n",
              " 'allowedrational',\n",
              " 'numbers',\n",
              " ',',\n",
              " 'irrational',\n",
              " 'numbers',\n",
              " ',',\n",
              " 'geometrical',\n",
              " 'magnitudes',\n",
              " ',',\n",
              " 'etc.',\n",
              " ',',\n",
              " 'to',\n",
              " 'all',\n",
              " 'be',\n",
              " 'treated',\n",
              " 'as',\n",
              " '``',\n",
              " 'algebraic',\n",
              " 'objects',\n",
              " \"''\",\n",
              " '.',\n",
              " 'It',\n",
              " 'gave',\n",
              " 'mathematics',\n",
              " 'a',\n",
              " 'whole',\n",
              " 'new',\n",
              " 'development',\n",
              " 'path',\n",
              " 'so',\n",
              " 'much',\n",
              " 'broader',\n",
              " 'in',\n",
              " 'concept',\n",
              " 'to',\n",
              " 'that',\n",
              " 'which',\n",
              " 'had',\n",
              " 'existed',\n",
              " 'before',\n",
              " ',',\n",
              " 'and',\n",
              " 'provided',\n",
              " 'a',\n",
              " 'vehicle',\n",
              " 'for',\n",
              " 'future',\n",
              " 'development',\n",
              " 'of',\n",
              " 'the',\n",
              " 'subject',\n",
              " '.',\n",
              " 'Another',\n",
              " 'important',\n",
              " 'aspect',\n",
              " 'of',\n",
              " 'the',\n",
              " 'introduction',\n",
              " 'of',\n",
              " 'algebraic',\n",
              " 'ideas',\n",
              " 'was',\n",
              " 'that',\n",
              " 'it',\n",
              " 'allowed',\n",
              " 'mathematics',\n",
              " 'to',\n",
              " 'be',\n",
              " 'applied',\n",
              " 'to',\n",
              " 'itselfin',\n",
              " 'a',\n",
              " 'way',\n",
              " 'which',\n",
              " 'had',\n",
              " 'not',\n",
              " 'happened',\n",
              " 'before',\n",
              " '.']"
            ]
          },
          "metadata": {
            "tags": []
          },
          "execution_count": 106
        }
      ]
    },
    {
      "cell_type": "code",
      "metadata": {
        "colab": {
          "base_uri": "https://localhost:8080/"
        },
        "id": "ZDmW0PLO-iBJ",
        "outputId": "6d815578-8981-47fb-a446-36a540bd9c88"
      },
      "source": [
        "AR_TXT_WORD"
      ],
      "execution_count": 107,
      "outputs": [
        {
          "output_type": "execute_result",
          "data": {
            "text/plain": [
              "['ربما',\n",
              " 'كانت',\n",
              " 'أحد',\n",
              " 'أهم',\n",
              " 'التطورات',\n",
              " 'التي',\n",
              " 'قامت',\n",
              " 'بها',\n",
              " 'الرياضيات',\n",
              " 'العربية',\n",
              " 'التي',\n",
              " 'بدأت',\n",
              " 'في',\n",
              " 'هذا',\n",
              " 'الوقت',\n",
              " 'بعمل',\n",
              " 'الخوارزمي',\n",
              " 'وهي',\n",
              " 'بدايات',\n",
              " 'الجبر',\n",
              " ',',\n",
              " 'ومن',\n",
              " 'المهم',\n",
              " 'فهم',\n",
              " 'كيف',\n",
              " 'كانت',\n",
              " 'هذه',\n",
              " 'الفكرة',\n",
              " 'الجديدة',\n",
              " 'مهمة',\n",
              " ',',\n",
              " 'فقد',\n",
              " 'كانت',\n",
              " 'خطوة',\n",
              " 'نورية',\n",
              " 'بعيدا',\n",
              " 'عن',\n",
              " 'المفهوم',\n",
              " 'اليوناني',\n",
              " 'للرياضيات',\n",
              " 'التي',\n",
              " 'هي',\n",
              " 'في',\n",
              " 'جوهرها',\n",
              " 'هندسة',\n",
              " ',',\n",
              " 'الجبر',\n",
              " 'کان',\n",
              " 'نظرية',\n",
              " 'موحدة',\n",
              " 'تتيح',\n",
              " 'الأعداد',\n",
              " 'الكسرية',\n",
              " 'والأعداد',\n",
              " 'اللا',\n",
              " 'كسرية',\n",
              " ',',\n",
              " 'والمقادير',\n",
              " 'الهندسية',\n",
              " 'وغيرها',\n",
              " ',',\n",
              " 'أن',\n",
              " 'تتعامل',\n",
              " 'على',\n",
              " 'أنها',\n",
              " 'أجسام',\n",
              " 'جبرية',\n",
              " ',',\n",
              " 'وأعطت',\n",
              " 'الرياضيات',\n",
              " 'ككل',\n",
              " 'مسارا',\n",
              " 'جديدا',\n",
              " 'للتطور',\n",
              " 'بمفهوم',\n",
              " 'أوسع',\n",
              " 'بكثير',\n",
              " 'من',\n",
              " 'الذي',\n",
              " 'كان',\n",
              " 'موجودا',\n",
              " 'من',\n",
              " 'قبل',\n",
              " ',',\n",
              " 'وقم',\n",
              " 'وسيلة',\n",
              " 'للتنمية',\n",
              " 'في',\n",
              " 'هذا',\n",
              " 'الموضوع',\n",
              " 'مستقبلا',\n",
              " '.',\n",
              " 'وجانب',\n",
              " 'آخر',\n",
              " 'مهم',\n",
              " 'لإدخال',\n",
              " 'أفكار',\n",
              " 'الجبر',\n",
              " 'وهو',\n",
              " 'أنه',\n",
              " 'سمح',\n",
              " 'بتطبيق',\n",
              " 'الرياضيات',\n",
              " 'على',\n",
              " 'نفسها',\n",
              " 'بطريقة',\n",
              " 'لم',\n",
              " 'تحدث',\n",
              " 'من',\n",
              " 'قبل']"
            ]
          },
          "metadata": {
            "tags": []
          },
          "execution_count": 107
        }
      ]
    },
    {
      "cell_type": "markdown",
      "metadata": {
        "id": "DNYYmReu4Nky"
      },
      "source": [
        "#### Tokenize sentence"
      ]
    },
    {
      "cell_type": "code",
      "metadata": {
        "id": "XI_kJY1m4Nky"
      },
      "source": [
        "ENG_TXT_SENT = sent_tokenize(ENG_TXT)\n",
        "AR_TXT_SENT = sent_tokenize(AR_TXT)"
      ],
      "execution_count": 108,
      "outputs": []
    },
    {
      "cell_type": "markdown",
      "metadata": {
        "id": "ZslwEgbH_Nug"
      },
      "source": [
        "### SHOWING SENTENCE "
      ]
    },
    {
      "cell_type": "code",
      "metadata": {
        "colab": {
          "base_uri": "https://localhost:8080/"
        },
        "id": "s0qIEPGN_S6Z",
        "outputId": "45de1ce4-b157-459f-ee64-cf349601cf74"
      },
      "source": [
        "ENG_TXT_SENT"
      ],
      "execution_count": 109,
      "outputs": [
        {
          "output_type": "execute_result",
          "data": {
            "text/plain": [
              "['Perhaps one of the most significant advances made by Arabic mathematics began at this time with the work of al-Khwarizmi, namely the beginnings of algebra.',\n",
              " 'It is important to understand just how significant this new idea was.',\n",
              " 'It was a revolutionary move away from the Greek concept of mathematics which was essentially geometry.',\n",
              " 'Algebra was a unifying theory which allowedrational numbers,irrational numbers, geometrical magnitudes, etc., to all be treated as \"algebraic objects\".',\n",
              " 'It gave mathematics a whole new development path so much broader in concept to that which had existed before, and provided a vehicle for future development of the subject.',\n",
              " 'Another important aspect of the introduction of algebraic ideas was that it allowed mathematics to be applied to itselfin a way which had not happened before.']"
            ]
          },
          "metadata": {
            "tags": []
          },
          "execution_count": 109
        }
      ]
    },
    {
      "cell_type": "code",
      "metadata": {
        "colab": {
          "base_uri": "https://localhost:8080/"
        },
        "id": "v6AZLdsJ_U2W",
        "outputId": "3f9a6500-32c4-4550-a4b7-d8c469873bfe"
      },
      "source": [
        "AR_TXT_SENT"
      ],
      "execution_count": 110,
      "outputs": [
        {
          "output_type": "execute_result",
          "data": {
            "text/plain": [
              "['ربما كانت أحد أهم التطورات التي قامت بها الرياضيات العربية التي بدأت في هذا الوقت بعمل الخوارزمي وهي بدايات الجبر, ومن المهم فهم كيف كانت هذه الفكرة الجديدة مهمة, فقد كانت خطوة نورية بعيدا عن المفهوم اليوناني للرياضيات التي هي في جوهرها هندسة, الجبر کان نظرية موحدة تتيح الأعداد الكسرية والأعداد اللا كسرية, والمقادير الهندسية وغيرها, أن تتعامل على أنها أجسام جبرية, وأعطت الرياضيات ككل مسارا جديدا للتطور بمفهوم أوسع بكثير من الذي كان موجودا من قبل, وقم وسيلة للتنمية في هذا الموضوع مستقبلا.',\n",
              " 'وجانب آخر مهم لإدخال أفكار الجبر وهو أنه سمح بتطبيق الرياضيات على نفسها بطريقة لم تحدث من قبل']"
            ]
          },
          "metadata": {
            "tags": []
          },
          "execution_count": 110
        }
      ]
    },
    {
      "cell_type": "markdown",
      "metadata": {
        "id": "PxjyLeon4Nkz"
      },
      "source": [
        "## Filter Stop Words"
      ]
    },
    {
      "cell_type": "code",
      "metadata": {
        "id": "HCFpJo284Nkz",
        "colab": {
          "base_uri": "https://localhost:8080/"
        },
        "outputId": "f76b05a7-a169-4d19-eae7-d5a00db63c03"
      },
      "source": [
        "nltk.download(\"stopwords\")\n",
        "from nltk.corpus import stopwords"
      ],
      "execution_count": 111,
      "outputs": [
        {
          "output_type": "stream",
          "text": [
            "[nltk_data] Downloading package stopwords to /root/nltk_data...\n",
            "[nltk_data]   Package stopwords is already up-to-date!\n"
          ],
          "name": "stdout"
        }
      ]
    },
    {
      "cell_type": "code",
      "metadata": {
        "id": "oxBXrOnM4Nkz"
      },
      "source": [
        "ENG_STOP_WORDS = set(stopwords.words(\"english\"))\n",
        "AR_STOP_WORDS = set(stopwords.words(\"arabic\"))"
      ],
      "execution_count": 112,
      "outputs": []
    },
    {
      "cell_type": "code",
      "metadata": {
        "id": "osWHiXDx4Nkz"
      },
      "source": [
        "ENG_TXT_FILTRE = []\n",
        "for word in ENG_TXT_WORD:\n",
        "    if word.casefold() not in ENG_STOP_WORDS:\n",
        "        ENG_TXT_FILTRE.append(word)\n",
        "\n",
        "AR_TXT_FILTRE = []\n",
        "for word in AR_TXT_WORD:\n",
        "    if word.casefold() not in AR_STOP_WORDS:\n",
        "        AR_TXT_FILTRE.append(word)\n"
      ],
      "execution_count": 113,
      "outputs": []
    },
    {
      "cell_type": "markdown",
      "metadata": {
        "id": "zmEUsE49BHfC"
      },
      "source": [
        "###SHOWING TEXT \n"
      ]
    },
    {
      "cell_type": "code",
      "metadata": {
        "colab": {
          "base_uri": "https://localhost:8080/"
        },
        "id": "fhxZTqsXBNtX",
        "outputId": "b8cfbb29-e99f-422d-bf90-d51151ae1444"
      },
      "source": [
        "ENG_TXT_FILTRE"
      ],
      "execution_count": 114,
      "outputs": [
        {
          "output_type": "execute_result",
          "data": {
            "text/plain": [
              "['Perhaps',\n",
              " 'one',\n",
              " 'significant',\n",
              " 'advances',\n",
              " 'made',\n",
              " 'Arabic',\n",
              " 'mathematics',\n",
              " 'began',\n",
              " 'time',\n",
              " 'work',\n",
              " 'al-Khwarizmi',\n",
              " ',',\n",
              " 'namely',\n",
              " 'beginnings',\n",
              " 'algebra',\n",
              " '.',\n",
              " 'important',\n",
              " 'understand',\n",
              " 'significant',\n",
              " 'new',\n",
              " 'idea',\n",
              " '.',\n",
              " 'revolutionary',\n",
              " 'move',\n",
              " 'away',\n",
              " 'Greek',\n",
              " 'concept',\n",
              " 'mathematics',\n",
              " 'essentially',\n",
              " 'geometry',\n",
              " '.',\n",
              " 'Algebra',\n",
              " 'unifying',\n",
              " 'theory',\n",
              " 'allowedrational',\n",
              " 'numbers',\n",
              " ',',\n",
              " 'irrational',\n",
              " 'numbers',\n",
              " ',',\n",
              " 'geometrical',\n",
              " 'magnitudes',\n",
              " ',',\n",
              " 'etc.',\n",
              " ',',\n",
              " 'treated',\n",
              " '``',\n",
              " 'algebraic',\n",
              " 'objects',\n",
              " \"''\",\n",
              " '.',\n",
              " 'gave',\n",
              " 'mathematics',\n",
              " 'whole',\n",
              " 'new',\n",
              " 'development',\n",
              " 'path',\n",
              " 'much',\n",
              " 'broader',\n",
              " 'concept',\n",
              " 'existed',\n",
              " ',',\n",
              " 'provided',\n",
              " 'vehicle',\n",
              " 'future',\n",
              " 'development',\n",
              " 'subject',\n",
              " '.',\n",
              " 'Another',\n",
              " 'important',\n",
              " 'aspect',\n",
              " 'introduction',\n",
              " 'algebraic',\n",
              " 'ideas',\n",
              " 'allowed',\n",
              " 'mathematics',\n",
              " 'applied',\n",
              " 'itselfin',\n",
              " 'way',\n",
              " 'happened',\n",
              " '.']"
            ]
          },
          "metadata": {
            "tags": []
          },
          "execution_count": 114
        }
      ]
    },
    {
      "cell_type": "code",
      "metadata": {
        "colab": {
          "base_uri": "https://localhost:8080/"
        },
        "id": "5mFeM9v7BPRz",
        "outputId": "3c59e7fb-adc2-45dc-dbd1-b071385be291"
      },
      "source": [
        "AR_TXT_FILTRE"
      ],
      "execution_count": 115,
      "outputs": [
        {
          "output_type": "execute_result",
          "data": {
            "text/plain": [
              "['ربما',\n",
              " 'كانت',\n",
              " 'أحد',\n",
              " 'أهم',\n",
              " 'التطورات',\n",
              " 'قامت',\n",
              " 'الرياضيات',\n",
              " 'العربية',\n",
              " 'بدأت',\n",
              " 'الوقت',\n",
              " 'بعمل',\n",
              " 'الخوارزمي',\n",
              " 'وهي',\n",
              " 'بدايات',\n",
              " 'الجبر',\n",
              " ',',\n",
              " 'المهم',\n",
              " 'فهم',\n",
              " 'كانت',\n",
              " 'الفكرة',\n",
              " 'الجديدة',\n",
              " 'مهمة',\n",
              " ',',\n",
              " 'فقد',\n",
              " 'كانت',\n",
              " 'خطوة',\n",
              " 'نورية',\n",
              " 'بعيدا',\n",
              " 'المفهوم',\n",
              " 'اليوناني',\n",
              " 'للرياضيات',\n",
              " 'جوهرها',\n",
              " 'هندسة',\n",
              " ',',\n",
              " 'الجبر',\n",
              " 'کان',\n",
              " 'نظرية',\n",
              " 'موحدة',\n",
              " 'تتيح',\n",
              " 'الأعداد',\n",
              " 'الكسرية',\n",
              " 'والأعداد',\n",
              " 'اللا',\n",
              " 'كسرية',\n",
              " ',',\n",
              " 'والمقادير',\n",
              " 'الهندسية',\n",
              " 'وغيرها',\n",
              " ',',\n",
              " 'تتعامل',\n",
              " 'أنها',\n",
              " 'أجسام',\n",
              " 'جبرية',\n",
              " ',',\n",
              " 'وأعطت',\n",
              " 'الرياضيات',\n",
              " 'ككل',\n",
              " 'مسارا',\n",
              " 'جديدا',\n",
              " 'للتطور',\n",
              " 'بمفهوم',\n",
              " 'أوسع',\n",
              " 'بكثير',\n",
              " 'كان',\n",
              " 'موجودا',\n",
              " 'قبل',\n",
              " ',',\n",
              " 'وقم',\n",
              " 'وسيلة',\n",
              " 'للتنمية',\n",
              " 'الموضوع',\n",
              " 'مستقبلا',\n",
              " '.',\n",
              " 'وجانب',\n",
              " 'آخر',\n",
              " 'مهم',\n",
              " 'لإدخال',\n",
              " 'أفكار',\n",
              " 'الجبر',\n",
              " 'أنه',\n",
              " 'سمح',\n",
              " 'بتطبيق',\n",
              " 'الرياضيات',\n",
              " 'نفسها',\n",
              " 'بطريقة',\n",
              " 'تحدث',\n",
              " 'قبل']"
            ]
          },
          "metadata": {
            "tags": []
          },
          "execution_count": 115
        }
      ]
    },
    {
      "cell_type": "markdown",
      "metadata": {
        "id": "Yx3vnwMX4Nk0"
      },
      "source": [
        "### Stemming\n"
      ]
    },
    {
      "cell_type": "code",
      "metadata": {
        "id": "MMUzeYpy4Nk1"
      },
      "source": [
        "from nltk.stem import PorterStemmer\n",
        "from snowballstemmer import stemmer\n"
      ],
      "execution_count": 116,
      "outputs": []
    },
    {
      "cell_type": "code",
      "metadata": {
        "id": "saeRdbhM4Nk1"
      },
      "source": [
        "Stemm = PorterStemmer()"
      ],
      "execution_count": 117,
      "outputs": []
    },
    {
      "cell_type": "code",
      "metadata": {
        "id": "cAkEgkj84Nk1"
      },
      "source": [
        "EN_TXT_STEMM = [Stemm.stem(word) for word in ENG_TXT_FILTRE]\n"
      ],
      "execution_count": 118,
      "outputs": []
    },
    {
      "cell_type": "markdown",
      "metadata": {
        "id": "G00jNJSsB9Kt"
      },
      "source": [
        "### SHOWING ENGLISH TEXT STEMMING\n"
      ]
    },
    {
      "cell_type": "code",
      "metadata": {
        "colab": {
          "base_uri": "https://localhost:8080/"
        },
        "id": "soQ9Uo1dCDYv",
        "outputId": "e7fd0d3f-0066-464c-bb3c-040b4e5ee256"
      },
      "source": [
        "EN_TXT_STEMM"
      ],
      "execution_count": 119,
      "outputs": [
        {
          "output_type": "execute_result",
          "data": {
            "text/plain": [
              "['perhap',\n",
              " 'one',\n",
              " 'signific',\n",
              " 'advanc',\n",
              " 'made',\n",
              " 'arab',\n",
              " 'mathemat',\n",
              " 'began',\n",
              " 'time',\n",
              " 'work',\n",
              " 'al-khwarizmi',\n",
              " ',',\n",
              " 'name',\n",
              " 'begin',\n",
              " 'algebra',\n",
              " '.',\n",
              " 'import',\n",
              " 'understand',\n",
              " 'signific',\n",
              " 'new',\n",
              " 'idea',\n",
              " '.',\n",
              " 'revolutionari',\n",
              " 'move',\n",
              " 'away',\n",
              " 'greek',\n",
              " 'concept',\n",
              " 'mathemat',\n",
              " 'essenti',\n",
              " 'geometri',\n",
              " '.',\n",
              " 'algebra',\n",
              " 'unifi',\n",
              " 'theori',\n",
              " 'allowedr',\n",
              " 'number',\n",
              " ',',\n",
              " 'irrat',\n",
              " 'number',\n",
              " ',',\n",
              " 'geometr',\n",
              " 'magnitud',\n",
              " ',',\n",
              " 'etc.',\n",
              " ',',\n",
              " 'treat',\n",
              " '``',\n",
              " 'algebra',\n",
              " 'object',\n",
              " \"''\",\n",
              " '.',\n",
              " 'gave',\n",
              " 'mathemat',\n",
              " 'whole',\n",
              " 'new',\n",
              " 'develop',\n",
              " 'path',\n",
              " 'much',\n",
              " 'broader',\n",
              " 'concept',\n",
              " 'exist',\n",
              " ',',\n",
              " 'provid',\n",
              " 'vehicl',\n",
              " 'futur',\n",
              " 'develop',\n",
              " 'subject',\n",
              " '.',\n",
              " 'anoth',\n",
              " 'import',\n",
              " 'aspect',\n",
              " 'introduct',\n",
              " 'algebra',\n",
              " 'idea',\n",
              " 'allow',\n",
              " 'mathemat',\n",
              " 'appli',\n",
              " 'itselfin',\n",
              " 'way',\n",
              " 'happen',\n",
              " '.']"
            ]
          },
          "metadata": {
            "tags": []
          },
          "execution_count": 119
        }
      ]
    },
    {
      "cell_type": "code",
      "metadata": {
        "id": "tIhgax3p4Nk2",
        "colab": {
          "base_uri": "https://localhost:8080/"
        },
        "outputId": "b92b2d33-ec13-4693-d3cf-f163601190c6"
      },
      "source": [
        "AR_TXT_STEMM = stemmer(\"arabic\")\n",
        "\n",
        "AR_TXT_STEMM = [AR_TXT_STEMM.stemWord(ar_word) for ar_word in AR_TXT_FILTRE]\n",
        "AR_TXT_STEMM"
      ],
      "execution_count": 120,
      "outputs": [
        {
          "output_type": "execute_result",
          "data": {
            "text/plain": [
              "['ربم',\n",
              " 'كان',\n",
              " 'احد',\n",
              " 'اهم',\n",
              " 'تطور',\n",
              " 'قام',\n",
              " 'رياض',\n",
              " 'عرب',\n",
              " 'بدء',\n",
              " 'وقت',\n",
              " 'عمل',\n",
              " 'خوارزم',\n",
              " 'وه',\n",
              " 'دايا',\n",
              " 'جبر',\n",
              " ',',\n",
              " 'مهم',\n",
              " 'فهم',\n",
              " 'كان',\n",
              " 'فكر',\n",
              " 'جديد',\n",
              " 'مهم',\n",
              " ',',\n",
              " 'فقد',\n",
              " 'كان',\n",
              " 'خطو',\n",
              " 'نور',\n",
              " 'عيد',\n",
              " 'مفهوم',\n",
              " 'يونان',\n",
              " 'رياض',\n",
              " 'جوهر',\n",
              " 'هندس',\n",
              " ',',\n",
              " 'جبر',\n",
              " 'کان',\n",
              " 'نظر',\n",
              " 'موحد',\n",
              " 'تتيح',\n",
              " 'اعداد',\n",
              " 'كسر',\n",
              " 'والاعداد',\n",
              " 'اللا',\n",
              " 'كسر',\n",
              " ',',\n",
              " 'والمقادير',\n",
              " 'هندس',\n",
              " 'غير',\n",
              " ',',\n",
              " 'تتعامل',\n",
              " 'انه',\n",
              " 'اجسام',\n",
              " 'جبر',\n",
              " ',',\n",
              " 'اعط',\n",
              " 'رياض',\n",
              " 'ككل',\n",
              " 'مسار',\n",
              " 'جديد',\n",
              " 'تطور',\n",
              " 'مفهوم',\n",
              " 'اوسع',\n",
              " 'كثير',\n",
              " 'كان',\n",
              " 'موجود',\n",
              " 'قبل',\n",
              " ',',\n",
              " 'وقم',\n",
              " 'سيل',\n",
              " 'تنم',\n",
              " 'موضوع',\n",
              " 'مستقبل',\n",
              " '.',\n",
              " 'جانب',\n",
              " 'اخر',\n",
              " 'مهم',\n",
              " 'لادخال',\n",
              " 'افكار',\n",
              " 'جبر',\n",
              " 'انه',\n",
              " 'سمح',\n",
              " 'تطبيق',\n",
              " 'رياض',\n",
              " 'نفس',\n",
              " 'طريق',\n",
              " 'تحدث',\n",
              " 'قبل']"
            ]
          },
          "metadata": {
            "tags": []
          },
          "execution_count": 120
        }
      ]
    },
    {
      "cell_type": "markdown",
      "metadata": {
        "id": "uCc7P9Yp4Nk4"
      },
      "source": [
        "<b>Understemming</b> happens when two related words should be reduced to the same stem but aren’t. This is a false negative.\n",
        "<b>Overstemming</b> happens when two unrelated words are reduced to the same stem even though they shouldn’t be. This is a false positive."
      ]
    },
    {
      "cell_type": "markdown",
      "metadata": {
        "id": "_RRMa-ez4Nk4"
      },
      "source": [
        "### Tagging Parts of Speech"
      ]
    },
    {
      "cell_type": "code",
      "metadata": {
        "colab": {
          "base_uri": "https://localhost:8080/"
        },
        "id": "Jh0sxK_9DMxB",
        "outputId": "80550e28-c5f1-45d7-c3fe-20ad8b0f3dba"
      },
      "source": [
        "nltk.download('averaged_perceptron_tagger')\n",
        "nltk.download('tagsets')\n"
      ],
      "execution_count": 121,
      "outputs": [
        {
          "output_type": "stream",
          "text": [
            "[nltk_data] Downloading package averaged_perceptron_tagger to\n",
            "[nltk_data]     /root/nltk_data...\n",
            "[nltk_data]   Package averaged_perceptron_tagger is already up-to-\n",
            "[nltk_data]       date!\n",
            "[nltk_data] Downloading package tagsets to /root/nltk_data...\n",
            "[nltk_data]   Package tagsets is already up-to-date!\n"
          ],
          "name": "stdout"
        },
        {
          "output_type": "execute_result",
          "data": {
            "text/plain": [
              "True"
            ]
          },
          "metadata": {
            "tags": []
          },
          "execution_count": 121
        }
      ]
    },
    {
      "cell_type": "code",
      "metadata": {
        "id": "HViZ_NTe4Nk5",
        "colab": {
          "base_uri": "https://localhost:8080/"
        },
        "outputId": "6f0f31aa-a254-4b72-d844-4521e0d231ea"
      },
      "source": [
        "ENG_POS_TAG = nltk.pos_tag(ENG_TXT_WORD)\n",
        "ENG_POS_TAG"
      ],
      "execution_count": 122,
      "outputs": [
        {
          "output_type": "execute_result",
          "data": {
            "text/plain": [
              "[('Perhaps', 'RB'),\n",
              " ('one', 'CD'),\n",
              " ('of', 'IN'),\n",
              " ('the', 'DT'),\n",
              " ('most', 'RBS'),\n",
              " ('significant', 'JJ'),\n",
              " ('advances', 'NNS'),\n",
              " ('made', 'VBN'),\n",
              " ('by', 'IN'),\n",
              " ('Arabic', 'NNP'),\n",
              " ('mathematics', 'NNS'),\n",
              " ('began', 'VBD'),\n",
              " ('at', 'IN'),\n",
              " ('this', 'DT'),\n",
              " ('time', 'NN'),\n",
              " ('with', 'IN'),\n",
              " ('the', 'DT'),\n",
              " ('work', 'NN'),\n",
              " ('of', 'IN'),\n",
              " ('al-Khwarizmi', 'JJ'),\n",
              " (',', ','),\n",
              " ('namely', 'RB'),\n",
              " ('the', 'DT'),\n",
              " ('beginnings', 'NNS'),\n",
              " ('of', 'IN'),\n",
              " ('algebra', 'NN'),\n",
              " ('.', '.'),\n",
              " ('It', 'PRP'),\n",
              " ('is', 'VBZ'),\n",
              " ('important', 'JJ'),\n",
              " ('to', 'TO'),\n",
              " ('understand', 'VB'),\n",
              " ('just', 'RB'),\n",
              " ('how', 'WRB'),\n",
              " ('significant', 'JJ'),\n",
              " ('this', 'DT'),\n",
              " ('new', 'JJ'),\n",
              " ('idea', 'NN'),\n",
              " ('was', 'VBD'),\n",
              " ('.', '.'),\n",
              " ('It', 'PRP'),\n",
              " ('was', 'VBD'),\n",
              " ('a', 'DT'),\n",
              " ('revolutionary', 'JJ'),\n",
              " ('move', 'NN'),\n",
              " ('away', 'RB'),\n",
              " ('from', 'IN'),\n",
              " ('the', 'DT'),\n",
              " ('Greek', 'NNP'),\n",
              " ('concept', 'NN'),\n",
              " ('of', 'IN'),\n",
              " ('mathematics', 'NNS'),\n",
              " ('which', 'WDT'),\n",
              " ('was', 'VBD'),\n",
              " ('essentially', 'RB'),\n",
              " ('geometry', 'JJ'),\n",
              " ('.', '.'),\n",
              " ('Algebra', 'NNP'),\n",
              " ('was', 'VBD'),\n",
              " ('a', 'DT'),\n",
              " ('unifying', 'JJ'),\n",
              " ('theory', 'NN'),\n",
              " ('which', 'WDT'),\n",
              " ('allowedrational', 'JJ'),\n",
              " ('numbers', 'NNS'),\n",
              " (',', ','),\n",
              " ('irrational', 'JJ'),\n",
              " ('numbers', 'NNS'),\n",
              " (',', ','),\n",
              " ('geometrical', 'JJ'),\n",
              " ('magnitudes', 'NNS'),\n",
              " (',', ','),\n",
              " ('etc.', 'NN'),\n",
              " (',', ','),\n",
              " ('to', 'TO'),\n",
              " ('all', 'DT'),\n",
              " ('be', 'VB'),\n",
              " ('treated', 'VBN'),\n",
              " ('as', 'IN'),\n",
              " ('``', '``'),\n",
              " ('algebraic', 'JJ'),\n",
              " ('objects', 'NNS'),\n",
              " (\"''\", \"''\"),\n",
              " ('.', '.'),\n",
              " ('It', 'PRP'),\n",
              " ('gave', 'VBD'),\n",
              " ('mathematics', 'NNS'),\n",
              " ('a', 'DT'),\n",
              " ('whole', 'JJ'),\n",
              " ('new', 'JJ'),\n",
              " ('development', 'NN'),\n",
              " ('path', 'NN'),\n",
              " ('so', 'RB'),\n",
              " ('much', 'JJ'),\n",
              " ('broader', 'JJR'),\n",
              " ('in', 'IN'),\n",
              " ('concept', 'NN'),\n",
              " ('to', 'TO'),\n",
              " ('that', 'DT'),\n",
              " ('which', 'WDT'),\n",
              " ('had', 'VBD'),\n",
              " ('existed', 'VBN'),\n",
              " ('before', 'IN'),\n",
              " (',', ','),\n",
              " ('and', 'CC'),\n",
              " ('provided', 'VBD'),\n",
              " ('a', 'DT'),\n",
              " ('vehicle', 'NN'),\n",
              " ('for', 'IN'),\n",
              " ('future', 'JJ'),\n",
              " ('development', 'NN'),\n",
              " ('of', 'IN'),\n",
              " ('the', 'DT'),\n",
              " ('subject', 'NN'),\n",
              " ('.', '.'),\n",
              " ('Another', 'DT'),\n",
              " ('important', 'JJ'),\n",
              " ('aspect', 'NN'),\n",
              " ('of', 'IN'),\n",
              " ('the', 'DT'),\n",
              " ('introduction', 'NN'),\n",
              " ('of', 'IN'),\n",
              " ('algebraic', 'JJ'),\n",
              " ('ideas', 'NNS'),\n",
              " ('was', 'VBD'),\n",
              " ('that', 'IN'),\n",
              " ('it', 'PRP'),\n",
              " ('allowed', 'VBD'),\n",
              " ('mathematics', 'NNS'),\n",
              " ('to', 'TO'),\n",
              " ('be', 'VB'),\n",
              " ('applied', 'VBN'),\n",
              " ('to', 'TO'),\n",
              " ('itselfin', 'VB'),\n",
              " ('a', 'DT'),\n",
              " ('way', 'NN'),\n",
              " ('which', 'WDT'),\n",
              " ('had', 'VBD'),\n",
              " ('not', 'RB'),\n",
              " ('happened', 'VBN'),\n",
              " ('before', 'IN'),\n",
              " ('.', '.')]"
            ]
          },
          "metadata": {
            "tags": []
          },
          "execution_count": 122
        }
      ]
    },
    {
      "cell_type": "code",
      "metadata": {
        "id": "wNmx-RX84Nk5",
        "colab": {
          "base_uri": "https://localhost:8080/"
        },
        "outputId": "046dbe64-f65b-4c9f-b151-267a530af4ba"
      },
      "source": [
        "nltk.help.upenn_tagset()"
      ],
      "execution_count": 123,
      "outputs": [
        {
          "output_type": "stream",
          "text": [
            "$: dollar\n",
            "    $ -$ --$ A$ C$ HK$ M$ NZ$ S$ U.S.$ US$\n",
            "'': closing quotation mark\n",
            "    ' ''\n",
            "(: opening parenthesis\n",
            "    ( [ {\n",
            "): closing parenthesis\n",
            "    ) ] }\n",
            ",: comma\n",
            "    ,\n",
            "--: dash\n",
            "    --\n",
            ".: sentence terminator\n",
            "    . ! ?\n",
            ":: colon or ellipsis\n",
            "    : ; ...\n",
            "CC: conjunction, coordinating\n",
            "    & 'n and both but either et for less minus neither nor or plus so\n",
            "    therefore times v. versus vs. whether yet\n",
            "CD: numeral, cardinal\n",
            "    mid-1890 nine-thirty forty-two one-tenth ten million 0.5 one forty-\n",
            "    seven 1987 twenty '79 zero two 78-degrees eighty-four IX '60s .025\n",
            "    fifteen 271,124 dozen quintillion DM2,000 ...\n",
            "DT: determiner\n",
            "    all an another any both del each either every half la many much nary\n",
            "    neither no some such that the them these this those\n",
            "EX: existential there\n",
            "    there\n",
            "FW: foreign word\n",
            "    gemeinschaft hund ich jeux habeas Haementeria Herr K'ang-si vous\n",
            "    lutihaw alai je jour objets salutaris fille quibusdam pas trop Monte\n",
            "    terram fiche oui corporis ...\n",
            "IN: preposition or conjunction, subordinating\n",
            "    astride among uppon whether out inside pro despite on by throughout\n",
            "    below within for towards near behind atop around if like until below\n",
            "    next into if beside ...\n",
            "JJ: adjective or numeral, ordinal\n",
            "    third ill-mannered pre-war regrettable oiled calamitous first separable\n",
            "    ectoplasmic battery-powered participatory fourth still-to-be-named\n",
            "    multilingual multi-disciplinary ...\n",
            "JJR: adjective, comparative\n",
            "    bleaker braver breezier briefer brighter brisker broader bumper busier\n",
            "    calmer cheaper choosier cleaner clearer closer colder commoner costlier\n",
            "    cozier creamier crunchier cuter ...\n",
            "JJS: adjective, superlative\n",
            "    calmest cheapest choicest classiest cleanest clearest closest commonest\n",
            "    corniest costliest crassest creepiest crudest cutest darkest deadliest\n",
            "    dearest deepest densest dinkiest ...\n",
            "LS: list item marker\n",
            "    A A. B B. C C. D E F First G H I J K One SP-44001 SP-44002 SP-44005\n",
            "    SP-44007 Second Third Three Two * a b c d first five four one six three\n",
            "    two\n",
            "MD: modal auxiliary\n",
            "    can cannot could couldn't dare may might must need ought shall should\n",
            "    shouldn't will would\n",
            "NN: noun, common, singular or mass\n",
            "    common-carrier cabbage knuckle-duster Casino afghan shed thermostat\n",
            "    investment slide humour falloff slick wind hyena override subhumanity\n",
            "    machinist ...\n",
            "NNP: noun, proper, singular\n",
            "    Motown Venneboerger Czestochwa Ranzer Conchita Trumplane Christos\n",
            "    Oceanside Escobar Kreisler Sawyer Cougar Yvette Ervin ODI Darryl CTCA\n",
            "    Shannon A.K.C. Meltex Liverpool ...\n",
            "NNPS: noun, proper, plural\n",
            "    Americans Americas Amharas Amityvilles Amusements Anarcho-Syndicalists\n",
            "    Andalusians Andes Andruses Angels Animals Anthony Antilles Antiques\n",
            "    Apache Apaches Apocrypha ...\n",
            "NNS: noun, common, plural\n",
            "    undergraduates scotches bric-a-brac products bodyguards facets coasts\n",
            "    divestitures storehouses designs clubs fragrances averages\n",
            "    subjectivists apprehensions muses factory-jobs ...\n",
            "PDT: pre-determiner\n",
            "    all both half many quite such sure this\n",
            "POS: genitive marker\n",
            "    ' 's\n",
            "PRP: pronoun, personal\n",
            "    hers herself him himself hisself it itself me myself one oneself ours\n",
            "    ourselves ownself self she thee theirs them themselves they thou thy us\n",
            "PRP$: pronoun, possessive\n",
            "    her his mine my our ours their thy your\n",
            "RB: adverb\n",
            "    occasionally unabatingly maddeningly adventurously professedly\n",
            "    stirringly prominently technologically magisterially predominately\n",
            "    swiftly fiscally pitilessly ...\n",
            "RBR: adverb, comparative\n",
            "    further gloomier grander graver greater grimmer harder harsher\n",
            "    healthier heavier higher however larger later leaner lengthier less-\n",
            "    perfectly lesser lonelier longer louder lower more ...\n",
            "RBS: adverb, superlative\n",
            "    best biggest bluntest earliest farthest first furthest hardest\n",
            "    heartiest highest largest least less most nearest second tightest worst\n",
            "RP: particle\n",
            "    aboard about across along apart around aside at away back before behind\n",
            "    by crop down ever fast for forth from go high i.e. in into just later\n",
            "    low more off on open out over per pie raising start teeth that through\n",
            "    under unto up up-pp upon whole with you\n",
            "SYM: symbol\n",
            "    % & ' '' ''. ) ). * + ,. < = > @ A[fj] U.S U.S.S.R * ** ***\n",
            "TO: \"to\" as preposition or infinitive marker\n",
            "    to\n",
            "UH: interjection\n",
            "    Goodbye Goody Gosh Wow Jeepers Jee-sus Hubba Hey Kee-reist Oops amen\n",
            "    huh howdy uh dammit whammo shucks heck anyways whodunnit honey golly\n",
            "    man baby diddle hush sonuvabitch ...\n",
            "VB: verb, base form\n",
            "    ask assemble assess assign assume atone attention avoid bake balkanize\n",
            "    bank begin behold believe bend benefit bevel beware bless boil bomb\n",
            "    boost brace break bring broil brush build ...\n",
            "VBD: verb, past tense\n",
            "    dipped pleaded swiped regummed soaked tidied convened halted registered\n",
            "    cushioned exacted snubbed strode aimed adopted belied figgered\n",
            "    speculated wore appreciated contemplated ...\n",
            "VBG: verb, present participle or gerund\n",
            "    telegraphing stirring focusing angering judging stalling lactating\n",
            "    hankerin' alleging veering capping approaching traveling besieging\n",
            "    encrypting interrupting erasing wincing ...\n",
            "VBN: verb, past participle\n",
            "    multihulled dilapidated aerosolized chaired languished panelized used\n",
            "    experimented flourished imitated reunifed factored condensed sheared\n",
            "    unsettled primed dubbed desired ...\n",
            "VBP: verb, present tense, not 3rd person singular\n",
            "    predominate wrap resort sue twist spill cure lengthen brush terminate\n",
            "    appear tend stray glisten obtain comprise detest tease attract\n",
            "    emphasize mold postpone sever return wag ...\n",
            "VBZ: verb, present tense, 3rd person singular\n",
            "    bases reconstructs marks mixes displeases seals carps weaves snatches\n",
            "    slumps stretches authorizes smolders pictures emerges stockpiles\n",
            "    seduces fizzes uses bolsters slaps speaks pleads ...\n",
            "WDT: WH-determiner\n",
            "    that what whatever which whichever\n",
            "WP: WH-pronoun\n",
            "    that what whatever whatsoever which who whom whosoever\n",
            "WP$: WH-pronoun, possessive\n",
            "    whose\n",
            "WRB: Wh-adverb\n",
            "    how however whence whenever where whereby whereever wherein whereof why\n",
            "``: opening quotation mark\n",
            "    ` ``\n"
          ],
          "name": "stdout"
        }
      ]
    },
    {
      "cell_type": "code",
      "metadata": {
        "id": "QIC1uGS44Nk6",
        "colab": {
          "base_uri": "https://localhost:8080/"
        },
        "outputId": "83a94a56-691e-482b-d8a0-fb78ac5abe05"
      },
      "source": [
        "AR_POS_TAG = nltk.pos_tag(AR_TXT_WORD) \n",
        "AR_POS_TAG"
      ],
      "execution_count": 124,
      "outputs": [
        {
          "output_type": "execute_result",
          "data": {
            "text/plain": [
              "[('ربما', 'JJ'),\n",
              " ('كانت', 'NNP'),\n",
              " ('أحد', 'NNP'),\n",
              " ('أهم', 'NNP'),\n",
              " ('التطورات', 'NNP'),\n",
              " ('التي', 'NNP'),\n",
              " ('قامت', 'NNP'),\n",
              " ('بها', 'NNP'),\n",
              " ('الرياضيات', 'NNP'),\n",
              " ('العربية', 'NNP'),\n",
              " ('التي', 'NNP'),\n",
              " ('بدأت', 'NNP'),\n",
              " ('في', 'NNP'),\n",
              " ('هذا', 'NNP'),\n",
              " ('الوقت', 'NNP'),\n",
              " ('بعمل', 'NNP'),\n",
              " ('الخوارزمي', 'NNP'),\n",
              " ('وهي', 'NNP'),\n",
              " ('بدايات', 'NNP'),\n",
              " ('الجبر', 'NNP'),\n",
              " (',', ','),\n",
              " ('ومن', 'NNP'),\n",
              " ('المهم', 'NNP'),\n",
              " ('فهم', 'NNP'),\n",
              " ('كيف', 'NNP'),\n",
              " ('كانت', 'NNP'),\n",
              " ('هذه', 'NNP'),\n",
              " ('الفكرة', 'NNP'),\n",
              " ('الجديدة', 'NNP'),\n",
              " ('مهمة', 'NNP'),\n",
              " (',', ','),\n",
              " ('فقد', 'NNP'),\n",
              " ('كانت', 'NNP'),\n",
              " ('خطوة', 'NNP'),\n",
              " ('نورية', 'NNP'),\n",
              " ('بعيدا', 'NNP'),\n",
              " ('عن', 'NNP'),\n",
              " ('المفهوم', 'NNP'),\n",
              " ('اليوناني', 'NNP'),\n",
              " ('للرياضيات', 'NNP'),\n",
              " ('التي', 'NNP'),\n",
              " ('هي', 'NNP'),\n",
              " ('في', 'NNP'),\n",
              " ('جوهرها', 'NNP'),\n",
              " ('هندسة', 'NNP'),\n",
              " (',', ','),\n",
              " ('الجبر', 'NNP'),\n",
              " ('کان', 'NNP'),\n",
              " ('نظرية', 'NNP'),\n",
              " ('موحدة', 'NNP'),\n",
              " ('تتيح', 'NNP'),\n",
              " ('الأعداد', 'NNP'),\n",
              " ('الكسرية', 'NNP'),\n",
              " ('والأعداد', 'NNP'),\n",
              " ('اللا', 'NNP'),\n",
              " ('كسرية', 'NNP'),\n",
              " (',', ','),\n",
              " ('والمقادير', 'NNP'),\n",
              " ('الهندسية', 'NNP'),\n",
              " ('وغيرها', 'NNP'),\n",
              " (',', ','),\n",
              " ('أن', 'NNP'),\n",
              " ('تتعامل', 'NNP'),\n",
              " ('على', 'NNP'),\n",
              " ('أنها', 'NNP'),\n",
              " ('أجسام', 'NNP'),\n",
              " ('جبرية', 'NNP'),\n",
              " (',', ','),\n",
              " ('وأعطت', 'NNP'),\n",
              " ('الرياضيات', 'NNP'),\n",
              " ('ككل', 'NNP'),\n",
              " ('مسارا', 'NNP'),\n",
              " ('جديدا', 'NNP'),\n",
              " ('للتطور', 'NNP'),\n",
              " ('بمفهوم', 'NNP'),\n",
              " ('أوسع', 'NNP'),\n",
              " ('بكثير', 'NNP'),\n",
              " ('من', 'NNP'),\n",
              " ('الذي', 'NNP'),\n",
              " ('كان', 'NNP'),\n",
              " ('موجودا', 'NNP'),\n",
              " ('من', 'NNP'),\n",
              " ('قبل', 'NNP'),\n",
              " (',', ','),\n",
              " ('وقم', 'NNP'),\n",
              " ('وسيلة', 'NNP'),\n",
              " ('للتنمية', 'NNP'),\n",
              " ('في', 'NNP'),\n",
              " ('هذا', 'NNP'),\n",
              " ('الموضوع', 'NNP'),\n",
              " ('مستقبلا', 'NNP'),\n",
              " ('.', '.'),\n",
              " ('وجانب', 'VB'),\n",
              " ('آخر', 'JJ'),\n",
              " ('مهم', 'NNP'),\n",
              " ('لإدخال', 'NNP'),\n",
              " ('أفكار', 'NNP'),\n",
              " ('الجبر', 'NNP'),\n",
              " ('وهو', 'NNP'),\n",
              " ('أنه', 'NNP'),\n",
              " ('سمح', 'NNP'),\n",
              " ('بتطبيق', 'NNP'),\n",
              " ('الرياضيات', 'NNP'),\n",
              " ('على', 'NNP'),\n",
              " ('نفسها', 'NNP'),\n",
              " ('بطريقة', 'NNP'),\n",
              " ('لم', 'NNP'),\n",
              " ('تحدث', 'NNP'),\n",
              " ('من', 'NNP'),\n",
              " ('قبل', 'NN')]"
            ]
          },
          "metadata": {
            "tags": []
          },
          "execution_count": 124
        }
      ]
    },
    {
      "cell_type": "markdown",
      "metadata": {
        "id": "_9Tb0Oc_4Nk6"
      },
      "source": [
        "### Lemmatizing"
      ]
    },
    {
      "cell_type": "code",
      "metadata": {
        "id": "G7Hl4HUr4Nk6",
        "colab": {
          "base_uri": "https://localhost:8080/"
        },
        "outputId": "86c5d722-657d-4728-dc04-8c38c8de15e6"
      },
      "source": [
        "from nltk.stem import WordNetLemmatizer\n",
        "nltk.download('wordnet')"
      ],
      "execution_count": 125,
      "outputs": [
        {
          "output_type": "stream",
          "text": [
            "[nltk_data] Downloading package wordnet to /root/nltk_data...\n",
            "[nltk_data]   Package wordnet is already up-to-date!\n"
          ],
          "name": "stdout"
        },
        {
          "output_type": "execute_result",
          "data": {
            "text/plain": [
              "True"
            ]
          },
          "metadata": {
            "tags": []
          },
          "execution_count": 125
        }
      ]
    },
    {
      "cell_type": "code",
      "metadata": {
        "id": "FLaMpTQy4Nk6"
      },
      "source": [
        "lemmatizer = WordNetLemmatizer()"
      ],
      "execution_count": 126,
      "outputs": []
    },
    {
      "cell_type": "code",
      "metadata": {
        "id": "fdoxxi_x4Nk7"
      },
      "source": [
        "LEMMETIZED_WORDS = [lemmatizer.lemmatize(word) for word in ENG_TXT_WORD]"
      ],
      "execution_count": 127,
      "outputs": []
    },
    {
      "cell_type": "code",
      "metadata": {
        "id": "4xEeB6S34Nk7",
        "colab": {
          "base_uri": "https://localhost:8080/"
        },
        "outputId": "110ebc9a-d314-4315-a6a2-8d1a7877d1b0"
      },
      "source": [
        "LEMMETIZED_WORDS"
      ],
      "execution_count": 128,
      "outputs": [
        {
          "output_type": "execute_result",
          "data": {
            "text/plain": [
              "['Perhaps',\n",
              " 'one',\n",
              " 'of',\n",
              " 'the',\n",
              " 'most',\n",
              " 'significant',\n",
              " 'advance',\n",
              " 'made',\n",
              " 'by',\n",
              " 'Arabic',\n",
              " 'mathematics',\n",
              " 'began',\n",
              " 'at',\n",
              " 'this',\n",
              " 'time',\n",
              " 'with',\n",
              " 'the',\n",
              " 'work',\n",
              " 'of',\n",
              " 'al-Khwarizmi',\n",
              " ',',\n",
              " 'namely',\n",
              " 'the',\n",
              " 'beginning',\n",
              " 'of',\n",
              " 'algebra',\n",
              " '.',\n",
              " 'It',\n",
              " 'is',\n",
              " 'important',\n",
              " 'to',\n",
              " 'understand',\n",
              " 'just',\n",
              " 'how',\n",
              " 'significant',\n",
              " 'this',\n",
              " 'new',\n",
              " 'idea',\n",
              " 'wa',\n",
              " '.',\n",
              " 'It',\n",
              " 'wa',\n",
              " 'a',\n",
              " 'revolutionary',\n",
              " 'move',\n",
              " 'away',\n",
              " 'from',\n",
              " 'the',\n",
              " 'Greek',\n",
              " 'concept',\n",
              " 'of',\n",
              " 'mathematics',\n",
              " 'which',\n",
              " 'wa',\n",
              " 'essentially',\n",
              " 'geometry',\n",
              " '.',\n",
              " 'Algebra',\n",
              " 'wa',\n",
              " 'a',\n",
              " 'unifying',\n",
              " 'theory',\n",
              " 'which',\n",
              " 'allowedrational',\n",
              " 'number',\n",
              " ',',\n",
              " 'irrational',\n",
              " 'number',\n",
              " ',',\n",
              " 'geometrical',\n",
              " 'magnitude',\n",
              " ',',\n",
              " 'etc.',\n",
              " ',',\n",
              " 'to',\n",
              " 'all',\n",
              " 'be',\n",
              " 'treated',\n",
              " 'a',\n",
              " '``',\n",
              " 'algebraic',\n",
              " 'object',\n",
              " \"''\",\n",
              " '.',\n",
              " 'It',\n",
              " 'gave',\n",
              " 'mathematics',\n",
              " 'a',\n",
              " 'whole',\n",
              " 'new',\n",
              " 'development',\n",
              " 'path',\n",
              " 'so',\n",
              " 'much',\n",
              " 'broader',\n",
              " 'in',\n",
              " 'concept',\n",
              " 'to',\n",
              " 'that',\n",
              " 'which',\n",
              " 'had',\n",
              " 'existed',\n",
              " 'before',\n",
              " ',',\n",
              " 'and',\n",
              " 'provided',\n",
              " 'a',\n",
              " 'vehicle',\n",
              " 'for',\n",
              " 'future',\n",
              " 'development',\n",
              " 'of',\n",
              " 'the',\n",
              " 'subject',\n",
              " '.',\n",
              " 'Another',\n",
              " 'important',\n",
              " 'aspect',\n",
              " 'of',\n",
              " 'the',\n",
              " 'introduction',\n",
              " 'of',\n",
              " 'algebraic',\n",
              " 'idea',\n",
              " 'wa',\n",
              " 'that',\n",
              " 'it',\n",
              " 'allowed',\n",
              " 'mathematics',\n",
              " 'to',\n",
              " 'be',\n",
              " 'applied',\n",
              " 'to',\n",
              " 'itselfin',\n",
              " 'a',\n",
              " 'way',\n",
              " 'which',\n",
              " 'had',\n",
              " 'not',\n",
              " 'happened',\n",
              " 'before',\n",
              " '.']"
            ]
          },
          "metadata": {
            "tags": []
          },
          "execution_count": 128
        }
      ]
    },
    {
      "cell_type": "markdown",
      "metadata": {
        "id": "hyO3TK-W4Nk7"
      },
      "source": [
        "### Chunking"
      ]
    },
    {
      "cell_type": "code",
      "metadata": {
        "id": "AHpWaYCG4Nk8"
      },
      "source": [
        "grammar = \"NP: {<DT>?<JJ>*<NN>}\""
      ],
      "execution_count": 129,
      "outputs": []
    },
    {
      "cell_type": "code",
      "metadata": {
        "id": "C3bZ4oSs4Nk8"
      },
      "source": [
        "chunk_parser = nltk.RegexpParser(grammar)"
      ],
      "execution_count": 130,
      "outputs": []
    },
    {
      "cell_type": "code",
      "metadata": {
        "id": "vYMGx3FW4Nk8"
      },
      "source": [
        "!pip install ghostscript"
      ],
      "execution_count": null,
      "outputs": []
    },
    {
      "cell_type": "code",
      "metadata": {
        "id": "L2axxysK4Nk8"
      },
      "source": [
        "import ghostscript"
      ],
      "execution_count": null,
      "outputs": []
    },
    {
      "cell_type": "code",
      "metadata": {
        "id": "76kKCMGh4Nk9"
      },
      "source": [
        "chunk_parser.parse(ENG_POS_TAG)"
      ],
      "execution_count": null,
      "outputs": []
    },
    {
      "cell_type": "code",
      "metadata": {
        "id": "ZzSf2Z1m4Nk9"
      },
      "source": [
        "tree.draw()"
      ],
      "execution_count": null,
      "outputs": []
    },
    {
      "cell_type": "markdown",
      "metadata": {
        "id": "p9n6tGe74Nk9"
      },
      "source": [
        "### Printing Dependencies"
      ]
    },
    {
      "cell_type": "code",
      "metadata": {
        "id": "39AqrxkF4Nk9"
      },
      "source": [
        "%load_ext watermark"
      ],
      "execution_count": null,
      "outputs": []
    },
    {
      "cell_type": "code",
      "metadata": {
        "id": "YpkCaTqg4Nk-"
      },
      "source": [
        "%watermark --iversions"
      ],
      "execution_count": null,
      "outputs": []
    }
  ]
}