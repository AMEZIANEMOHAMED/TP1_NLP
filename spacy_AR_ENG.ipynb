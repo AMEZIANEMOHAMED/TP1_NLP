{
 "cells": [
  {
   "cell_type": "markdown",
   "metadata": {
    "id": "-EgX__p_4Uvp"
   },
   "source": [
    "# spaCy"
   ]
  },
  {
   "cell_type": "markdown",
   "metadata": {
    "id": "jRGty1V94Uv0"
   },
   "source": [
    "### Load library Spacy"
   ]
  },
  {
   "cell_type": "code",
   "execution_count": null,
   "metadata": {
    "id": "PKQ18j504Uv1"
   },
   "outputs": [],
   "source": [
    "import spacy\n",
    "from spacy.lang.ar import *"
   ]
  },
  {
   "cell_type": "markdown",
   "metadata": {
    "id": "VyIW1bcm4Uv3"
   },
   "source": [
    "### My Data"
   ]
  },
  {
   "cell_type": "code",
   "execution_count": null,
   "metadata": {
    "id": "51xb06j24Uv3"
   },
   "outputs": [],
   "source": [
    "ENG_TXT = \"\"\"Perhaps one of the most significant advances made by Arabic mathematics began at this time with the work of al-Khwarizmi, namely the beginnings of algebra. It is important to understand just how significant this new idea was. It was a revolutionary move away from the Greek concept of mathematics which was essentially geometry. Algebra was a unifying theory which allowedrational numbers,irrational numbers, geometrical magnitudes, etc., to all be treated as \\\"algebraic objects\\\". It gave mathematics a whole new development path so much broader in concept to that which had existed before, and provided a vehicle for future development of the subject. Another important aspect of the introduction of algebraic ideas was that it allowed mathematics to be applied to itselfin a way which had not happened before.\"\"\""
   ]
  },
  {
   "cell_type": "code",
   "execution_count": null,
   "metadata": {
    "id": "xL9dCHP14Uv4"
   },
   "outputs": [],
   "source": [
    "AR_TXT =\"\"\"ربما كانت أحد أهم التطورات التي قامت بها الرياضيات العربية التي بدأت في هذا الوقت بعمل الخوارزمي وهي بدايات الجبر, ومن المهم فهم كيف كانت هذه الفكرة الجديدة مهمة, فقد كانت خطوة نورية بعيدا عن المفهوم اليوناني للرياضيات التي هي في جوهرها هندسة, الجبر کان نظرية موحدة تتيح الأعداد الكسرية والأعداد اللا كسرية, والمقادير الهندسية وغيرها, أن تتعامل على أنها أجسام جبرية, وأعطت الرياضيات ككل مسارا جديدا للتطور بمفهوم أوسع بكثير من الذي كان موجودا من قبل, وقم وسيلة للتنمية في هذا الموضوع مستقبلا. وجانب آخر مهم لإدخال أفكار الجبر وهو أنه سمح بتطبيق الرياضيات على نفسها بطريقة لم تحدث من قبل\"\"\""
   ]
  },
  {
   "cell_type": "markdown",
   "metadata": {
    "id": "kc7Lp0rv4Uv5"
   },
   "source": [
    "## Tokenize\n"
   ]
  },
  {
   "cell_type": "code",
   "execution_count": null,
   "metadata": {
    "id": "1iVVhEH44Uv6"
   },
   "outputs": [],
   "source": [
    "nlp = spacy.load(\"en_core_web_sm\")"
   ]
  },
  {
   "cell_type": "code",
   "execution_count": null,
   "metadata": {
    "id": "PXRk9sFS4Uv7"
   },
   "outputs": [],
   "source": [
    "AR_DOCS = Arabic()\n",
    "AR_DOCS = nlp(AR_TXT)"
   ]
  },
  {
   "cell_type": "code",
   "execution_count": null,
   "metadata": {
    "id": "HP_odhQY4Uv9"
   },
   "outputs": [],
   "source": [
    "ENG_DOCS = nlp(ENG_TXT)"
   ]
  },
  {
   "cell_type": "code",
   "execution_count": null,
   "metadata": {
    "id": "gRzl0EfJ4Uv9"
   },
   "outputs": [],
   "source": [
    "for token in AR_DOCS:\n",
    "    print(token.text)\n",
    "    \n",
    "for token in ENG_DOCS:\n",
    "    print(token.text)"
   ]
  },
  {
   "cell_type": "markdown",
   "metadata": {
    "id": "zJIPBU114Uv_"
   },
   "source": [
    "### Part-of-speech tags\n"
   ]
  },
  {
   "cell_type": "code",
   "execution_count": null,
   "metadata": {
    "id": "PzOpPKxA4UwA"
   },
   "outputs": [],
   "source": [
    "for token in ENG_DOCS:\n",
    "    print(token.text, token.pos_, token.tag_)"
   ]
  },
  {
   "cell_type": "code",
   "execution_count": null,
   "metadata": {
    "id": "oCHM3xJI4UwC"
   },
   "outputs": [],
   "source": [
    "for token in AR_DOCS:\n",
    "    print(token.text, token.pos_)"
   ]
  },
  {
   "cell_type": "markdown",
   "metadata": {
    "id": "hjNx45GT4UwC"
   },
   "source": [
    "### Visualizing the dependency parse"
   ]
  },
  {
   "cell_type": "code",
   "execution_count": null,
   "metadata": {
    "colab": {
     "base_uri": "https://localhost:8080/"
    },
    "id": "pbfa0AcM4UwD",
    "outputId": "608887dc-014f-4733-a67d-3e0d54f6c8fa"
   },
   "outputs": [],
   "source": [
    "from spacy import displacy\n",
    "displacy.serve(ENG_DOCS, style=\"dep\")"
   ]
  },
  {
   "cell_type": "markdown",
   "metadata": {
    "id": "7_hkyFcL4UwD"
   },
   "source": [
    "### Lemmatization"
   ]
  },
  {
   "cell_type": "code",
   "execution_count": null,
   "metadata": {
    "id": "hzS0olDI4UwD"
   },
   "outputs": [],
   "source": [
    "for token in AR_DOCS:\n",
    "    print(token.text, token.pos_, token.lemma_)"
   ]
  },
  {
   "cell_type": "markdown",
   "metadata": {
    "id": "a8nZ9GbE4UwD"
   },
   "source": [
    "### Chunking"
   ]
  },
  {
   "cell_type": "code",
   "execution_count": null,
   "metadata": {
    "id": "IKtFgOp14UwE"
   },
   "outputs": [],
   "source": [
    "for chunk in ENG_DOCS.noun_chunks:\n",
    "    print(chunk.label_, chunk)"
   ]
  },
  {
   "cell_type": "code",
   "execution_count": null,
   "metadata": {
    "id": "qeO0ZBzY4UwE"
   },
   "outputs": [],
   "source": [
    "for token in ENG_DOCS:\n",
    "    if token.pos_ == \"VERB\":\n",
    "        print(token.tag_, token.lemma_)"
   ]
  },
  {
   "cell_type": "markdown",
   "metadata": {
    "id": "3C7Y-gc04UwF"
   },
   "source": [
    "### Named entities "
   ]
  },
  {
   "cell_type": "code",
   "execution_count": null,
   "metadata": {
    "id": "ZH-ZHPaG4UwF"
   },
   "outputs": [],
   "source": [
    "for ent in ENG_DOCS.ents:\n",
    "    print(ent.text, ent.start_char, ent.end_char, ent.label_)"
   ]
  },
  {
   "cell_type": "markdown",
   "metadata": {
    "id": "vKZgJqU44UwF"
   },
   "source": [
    "### Dependencies"
   ]
  },
  {
   "cell_type": "code",
   "execution_count": null,
   "metadata": {
    "id": "wUxYj8Ed4UwF",
    "outputId": "df655acf-632c-4137-bf08-3e21ca6af2e5"
   },
   "outputs": [],
   "source": [
    "!pip install watermark\n",
    "%load_ext watermark\n"
   ]
  },
  {
   "cell_type": "code",
   "execution_count": null,
   "metadata": {
    "id": "6hVpAhqk4UwG",
    "outputId": "f49a9ed6-a4e6-41b4-c429-e1cf7ea4fc7b"
   },
   "outputs": [],
   "source": [
    "%watermark -p spacy"
   ]
  },
  {
   "cell_type": "code",
   "execution_count": null,
   "metadata": {
    "id": "jDsYSZHC4UwG"
   },
   "outputs": [],
   "source": []
  }
 ],
 "metadata": {
  "colab": {
   "collapsed_sections": [],
   "name": "spacy.ipynb",
   "provenance": []
  },
  "kernelspec": {
   "display_name": "Python 3",
   "language": "python",
   "name": "python3"
  },
  "language_info": {
   "codemirror_mode": {
    "name": "ipython",
    "version": 3
   },
   "file_extension": ".py",
   "mimetype": "text/x-python",
   "name": "python",
   "nbconvert_exporter": "python",
   "pygments_lexer": "ipython3",
   "version": "3.8.8"
  }
 },
 "nbformat": 4,
 "nbformat_minor": 4
}
